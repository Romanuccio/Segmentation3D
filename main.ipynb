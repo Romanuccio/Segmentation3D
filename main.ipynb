{
 "cells": [
  {
   "cell_type": "code",
   "execution_count": 1,
   "metadata": {},
   "outputs": [],
   "source": [
    "import torch\n",
    "import torchinfo\n",
    "from models.lightning_models import Unet3D\n",
    "from modules.segmentation_model import Unet, PositionalUnet"
   ]
  },
  {
   "cell_type": "code",
   "execution_count": 2,
   "metadata": {},
   "outputs": [],
   "source": [
    "model = Unet3D(model=Unet, loss=torch.nn.BCELoss(), patch_size=(64, 64, 64), strides=(32, 32, 32), padding=\"same\", final_activation=torch.nn.Sigmoid())"
   ]
  },
  {
   "cell_type": "code",
   "execution_count": 3,
   "metadata": {},
   "outputs": [],
   "source": [
    "pos_model = Unet3D(\n",
    "    model=PositionalUnet,\n",
    "    loss=torch.nn.BCELoss(),\n",
    "    patch_size=(64, 64, 64),\n",
    "    strides=(32, 32, 32),\n",
    "    padding=\"same\",\n",
    "    final_activation=torch.nn.Sigmoid(),\n",
    "    positional=True,\n",
    ")"
   ]
  },
  {
   "cell_type": "code",
   "execution_count": 4,
   "metadata": {},
   "outputs": [],
   "source": [
    "test_tensor = torch.rand((1, 1, 128, 128, 128))"
   ]
  },
  {
   "cell_type": "code",
   "execution_count": 5,
   "metadata": {},
   "outputs": [],
   "source": [
    "# pred_mod = model.predict_step(test_tensor, patch_size=(64, 64, 64), strides=(32, 32, 32), padding=\"same\", unpad=True, verbose=False)"
   ]
  },
  {
   "cell_type": "code",
   "execution_count": 11,
   "metadata": {},
   "outputs": [
    {
     "name": "stdout",
     "output_type": "stream",
     "text": [
      "prediction took 3.78 seconds\n"
     ]
    }
   ],
   "source": [
    "pred = pos_model.predict_step(test_tensor, patch_size=(64, 64, 64), strides=(32, 32, 32), padding=\"same\", unpad=True, verbose=True, positional=True)"
   ]
  },
  {
   "cell_type": "code",
   "execution_count": 7,
   "metadata": {},
   "outputs": [
    {
     "name": "stderr",
     "output_type": "stream",
     "text": [
      "/home/romanuccio/RomanuccioDiff/.venv/lib/python3.10/site-packages/pytorch_lightning/core/module.py:441: You are trying to `self.log()` but the `self.trainer` reference is not registered on the model yet. This is most likely because the model hasn't been passed to the `Trainer`\n"
     ]
    },
    {
     "data": {
      "text/plain": [
       "tensor(100.0452, grad_fn=<MulBackward0>)"
      ]
     },
     "execution_count": 7,
     "metadata": {},
     "output_type": "execute_result"
    }
   ],
   "source": [
    "pos_model.training_step((test_tensor, test_tensor, torch.rand((1, 3, 1))), 0)"
   ]
  },
  {
   "cell_type": "code",
   "execution_count": 8,
   "metadata": {},
   "outputs": [],
   "source": [
    "model = PositionalUnet(\n",
    "    in_channels=1,\n",
    "    positional_channels=3,\n",
    "    classes=1,\n",
    "    depths=[2, 2, 2, 2],\n",
    "    channel_multipliers=[1, 2, 4, 8],\n",
    "    embed_dim=48,\n",
    "    positional_embed_dim=32,\n",
    "    final_activation=torch.nn.Sigmoid(),\n",
    ")\n",
    "model = model.to(\"cuda\")\n"
   ]
  },
  {
   "cell_type": "code",
   "execution_count": 9,
   "metadata": {},
   "outputs": [],
   "source": [
    "x = torch.rand((1, 1, 128, 128, 128)).to(\"cuda\")\n",
    "y = torch.rand((1, 3, 1)).to(\"cuda\")"
   ]
  },
  {
   "cell_type": "code",
   "execution_count": 10,
   "metadata": {},
   "outputs": [
    {
     "data": {
      "text/plain": [
       "====================================================================================================\n",
       "Layer (type:depth-idx)                             Output Shape              Param #\n",
       "====================================================================================================\n",
       "PositionalUnet                                     [1, 1, 128, 128, 128]     --\n",
       "├─Conv3d: 1-1                                      [1, 48, 64, 64, 64]       432\n",
       "├─SinusoidalEmbedding: 1-2                         [1, 3, 32]                --\n",
       "├─ModuleList: 1-3                                  --                        --\n",
       "│    └─ModuleList: 2-1                             --                        --\n",
       "│    │    └─ResidualLayer: 3-1                     [1, 48, 64, 64, 64]       --\n",
       "│    │    │    └─ModuleList: 4-1                   --                        --\n",
       "│    │    │    │    └─ResidualBlock: 5-1           [1, 48, 64, 64, 64]       5,256\n",
       "│    │    │    │    └─ResidualBlock: 5-2           [1, 48, 64, 64, 64]       5,256\n",
       "│    │    └─Downsample: 3-2                        [1, 96, 32, 32, 32]       --\n",
       "│    │    │    └─Conv3d: 4-2                       [1, 96, 32, 32, 32]       36,960\n",
       "│    └─ModuleList: 2-2                             --                        --\n",
       "│    │    └─ResidualLayer: 3-3                     [1, 96, 32, 32, 32]       --\n",
       "│    │    │    └─ModuleList: 4-3                   --                        --\n",
       "│    │    │    │    └─ResidualBlock: 5-3           [1, 96, 32, 32, 32]       20,592\n",
       "│    │    │    │    └─ResidualBlock: 5-4           [1, 96, 32, 32, 32]       20,592\n",
       "│    │    └─Downsample: 3-4                        [1, 192, 16, 16, 16]      --\n",
       "│    │    │    └─Conv3d: 4-4                       [1, 192, 16, 16, 16]      147,648\n",
       "│    └─ModuleList: 2-3                             --                        --\n",
       "│    │    └─ResidualLayer: 3-5                     [1, 192, 16, 16, 16]      --\n",
       "│    │    │    └─ModuleList: 4-5                   --                        --\n",
       "│    │    │    │    └─ResidualBlock: 5-5           [1, 192, 16, 16, 16]      81,504\n",
       "│    │    │    │    └─ResidualBlock: 5-6           [1, 192, 16, 16, 16]      81,504\n",
       "│    │    └─Downsample: 3-6                        [1, 384, 8, 8, 8]         --\n",
       "│    │    │    └─Conv3d: 4-6                       [1, 384, 8, 8, 8]         590,208\n",
       "│    └─ModuleList: 2-4                             --                        1,180,032\n",
       "│    │    └─ResidualLayer: 3-7                     [1, 384, 8, 8, 8]         --\n",
       "│    │    │    └─ModuleList: 4-7                   --                        --\n",
       "│    │    │    │    └─ResidualBlock: 5-7           [1, 384, 8, 8, 8]         324,288\n",
       "│    │    │    │    └─ResidualBlock: 5-8           [1, 384, 8, 8, 8]         324,288\n",
       "├─Conv3d: 1-4                                      [1, 384, 8, 8, 8]         184,704\n",
       "├─ModuleList: 1-5                                  --                        --\n",
       "│    └─ModuleList: 2-5                             --                        --\n",
       "│    │    └─Upsample: 3-8                          [1, 192, 16, 16, 16]      --\n",
       "│    │    │    └─Upsample: 4-8                     [1, 384, 16, 16, 16]      --\n",
       "│    │    │    └─Conv3d: 4-9                       [1, 192, 16, 16, 16]      73,920\n",
       "│    │    └─Conv3d: 3-9                            [1, 192, 16, 16, 16]      73,920\n",
       "│    │    └─ResidualLayer: 3-10                    [1, 192, 16, 16, 16]      --\n",
       "│    │    │    └─ModuleList: 4-10                  --                        --\n",
       "│    │    │    │    └─ResidualBlock: 5-9           [1, 192, 16, 16, 16]      81,504\n",
       "│    │    │    │    └─ResidualBlock: 5-10          [1, 192, 16, 16, 16]      81,504\n",
       "│    └─ModuleList: 2-6                             --                        --\n",
       "│    │    └─Upsample: 3-11                         [1, 96, 32, 32, 32]       --\n",
       "│    │    │    └─Upsample: 4-11                    [1, 192, 32, 32, 32]      --\n",
       "│    │    │    └─Conv3d: 4-12                      [1, 96, 32, 32, 32]       18,528\n",
       "│    │    └─Conv3d: 3-12                           [1, 96, 32, 32, 32]       18,528\n",
       "│    │    └─ResidualLayer: 3-13                    [1, 96, 32, 32, 32]       --\n",
       "│    │    │    └─ModuleList: 4-13                  --                        --\n",
       "│    │    │    │    └─ResidualBlock: 5-11          [1, 96, 32, 32, 32]       20,592\n",
       "│    │    │    │    └─ResidualBlock: 5-12          [1, 96, 32, 32, 32]       20,592\n",
       "│    └─ModuleList: 2-7                             --                        --\n",
       "│    │    └─Upsample: 3-14                         [1, 48, 64, 64, 64]       --\n",
       "│    │    │    └─Upsample: 4-14                    [1, 96, 64, 64, 64]       --\n",
       "│    │    │    └─Conv3d: 4-15                      [1, 48, 64, 64, 64]       4,656\n",
       "│    │    └─Conv3d: 3-15                           [1, 48, 64, 64, 64]       4,656\n",
       "│    │    └─ResidualLayer: 3-16                    [1, 48, 64, 64, 64]       --\n",
       "│    │    │    └─ModuleList: 4-16                  --                        --\n",
       "│    │    │    │    └─ResidualBlock: 5-13          [1, 48, 64, 64, 64]       5,256\n",
       "│    │    │    │    └─ResidualBlock: 5-14          [1, 48, 64, 64, 64]       5,256\n",
       "├─Sequential: 1-6                                  [1, 1, 128, 128, 128]     --\n",
       "│    └─Upsample: 2-8                               [1, 24, 128, 128, 128]    --\n",
       "│    │    └─Upsample: 3-17                         [1, 48, 128, 128, 128]    --\n",
       "│    │    └─Conv3d: 3-18                           [1, 24, 128, 128, 128]    1,176\n",
       "│    └─Conv3d: 2-9                                 [1, 24, 128, 128, 128]    15,576\n",
       "│    └─Conv3d: 2-10                                [1, 1, 128, 128, 128]     25\n",
       "├─Sigmoid: 1-7                                     [1, 1, 128, 128, 128]     --\n",
       "====================================================================================================\n",
       "Total params: 3,428,953\n",
       "Trainable params: 3,428,953\n",
       "Non-trainable params: 0\n",
       "Total mult-adds (G): 51.45\n",
       "====================================================================================================\n",
       "Input size (MB): 8.39\n",
       "Forward/backward pass size (MB): 2816.48\n",
       "Params size (MB): 9.00\n",
       "Estimated Total Size (MB): 2833.86\n",
       "===================================================================================================="
      ]
     },
     "execution_count": 10,
     "metadata": {},
     "output_type": "execute_result"
    }
   ],
   "source": [
    "torchinfo.summary(model, input_data=(x, y), device='cuda', depth=5)"
   ]
  }
 ],
 "metadata": {
  "kernelspec": {
   "display_name": ".venv",
   "language": "python",
   "name": "python3"
  },
  "language_info": {
   "codemirror_mode": {
    "name": "ipython",
    "version": 3
   },
   "file_extension": ".py",
   "mimetype": "text/x-python",
   "name": "python",
   "nbconvert_exporter": "python",
   "pygments_lexer": "ipython3",
   "version": "3.10.12"
  },
  "orig_nbformat": 4
 },
 "nbformat": 4,
 "nbformat_minor": 2
}
